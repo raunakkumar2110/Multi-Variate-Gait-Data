{
 "cells": [
  {
   "cell_type": "code",
   "execution_count": 87,
   "id": "8a3e4099",
   "metadata": {},
   "outputs": [],
   "source": [
    "import tensorflow as tf\n",
    "from tensorflow import keras\n",
    "import numpy as np\n",
    "import pandas as pd\n",
    "from sklearn.ensemble import RandomForestClassifier\n",
    "from sklearn.decomposition import PCA\n",
    "from sklearn.pipeline import Pipeline\n",
    "from sklearn.metrics import accuracy_score\n",
    "from sklearn.model_selection import GridSearchCV\n",
    "from sklearn.preprocessing import StandardScaler\n",
    "from sklearn.tree import DecisionTreeClassifier\n",
    "from sklearn.model_selection import train_test_split\n",
    "from sklearn.svm import SVC\n",
    "from sklearn.linear_model import LogisticRegression\n",
    "from sklearn.naive_bayes import GaussianNB\n",
    "from sklearn.linear_model import Perceptron"
   ]
  },
  {
   "cell_type": "code",
   "execution_count": 66,
   "id": "2144bcef",
   "metadata": {},
   "outputs": [],
   "source": [
    "data = pd.read_csv(\"gait.csv\")"
   ]
  },
  {
   "cell_type": "code",
   "execution_count": 46,
   "id": "65b027c3",
   "metadata": {},
   "outputs": [],
   "source": [
    "df = data.copy()"
   ]
  },
  {
   "cell_type": "code",
   "execution_count": 47,
   "id": "3e78e815",
   "metadata": {},
   "outputs": [
    {
     "data": {
      "text/html": [
       "<div>\n",
       "<style scoped>\n",
       "    .dataframe tbody tr th:only-of-type {\n",
       "        vertical-align: middle;\n",
       "    }\n",
       "\n",
       "    .dataframe tbody tr th {\n",
       "        vertical-align: top;\n",
       "    }\n",
       "\n",
       "    .dataframe thead th {\n",
       "        text-align: right;\n",
       "    }\n",
       "</style>\n",
       "<table border=\"1\" class=\"dataframe\">\n",
       "  <thead>\n",
       "    <tr style=\"text-align: right;\">\n",
       "      <th></th>\n",
       "      <th>subject</th>\n",
       "      <th>condition</th>\n",
       "      <th>replication</th>\n",
       "      <th>leg</th>\n",
       "      <th>joint</th>\n",
       "      <th>time</th>\n",
       "      <th>angle</th>\n",
       "    </tr>\n",
       "  </thead>\n",
       "  <tbody>\n",
       "    <tr>\n",
       "      <th>0</th>\n",
       "      <td>1</td>\n",
       "      <td>1</td>\n",
       "      <td>1</td>\n",
       "      <td>1</td>\n",
       "      <td>1</td>\n",
       "      <td>0</td>\n",
       "      <td>4.682881</td>\n",
       "    </tr>\n",
       "    <tr>\n",
       "      <th>1</th>\n",
       "      <td>1</td>\n",
       "      <td>1</td>\n",
       "      <td>1</td>\n",
       "      <td>1</td>\n",
       "      <td>1</td>\n",
       "      <td>1</td>\n",
       "      <td>5.073127</td>\n",
       "    </tr>\n",
       "    <tr>\n",
       "      <th>2</th>\n",
       "      <td>1</td>\n",
       "      <td>1</td>\n",
       "      <td>1</td>\n",
       "      <td>1</td>\n",
       "      <td>1</td>\n",
       "      <td>2</td>\n",
       "      <td>5.229774</td>\n",
       "    </tr>\n",
       "    <tr>\n",
       "      <th>3</th>\n",
       "      <td>1</td>\n",
       "      <td>1</td>\n",
       "      <td>1</td>\n",
       "      <td>1</td>\n",
       "      <td>1</td>\n",
       "      <td>3</td>\n",
       "      <td>5.083273</td>\n",
       "    </tr>\n",
       "    <tr>\n",
       "      <th>4</th>\n",
       "      <td>1</td>\n",
       "      <td>1</td>\n",
       "      <td>1</td>\n",
       "      <td>1</td>\n",
       "      <td>1</td>\n",
       "      <td>4</td>\n",
       "      <td>4.652399</td>\n",
       "    </tr>\n",
       "    <tr>\n",
       "      <th>...</th>\n",
       "      <td>...</td>\n",
       "      <td>...</td>\n",
       "      <td>...</td>\n",
       "      <td>...</td>\n",
       "      <td>...</td>\n",
       "      <td>...</td>\n",
       "      <td>...</td>\n",
       "    </tr>\n",
       "    <tr>\n",
       "      <th>181795</th>\n",
       "      <td>10</td>\n",
       "      <td>3</td>\n",
       "      <td>10</td>\n",
       "      <td>2</td>\n",
       "      <td>3</td>\n",
       "      <td>96</td>\n",
       "      <td>29.778412</td>\n",
       "    </tr>\n",
       "    <tr>\n",
       "      <th>181796</th>\n",
       "      <td>10</td>\n",
       "      <td>3</td>\n",
       "      <td>10</td>\n",
       "      <td>2</td>\n",
       "      <td>3</td>\n",
       "      <td>97</td>\n",
       "      <td>29.247559</td>\n",
       "    </tr>\n",
       "    <tr>\n",
       "      <th>181797</th>\n",
       "      <td>10</td>\n",
       "      <td>3</td>\n",
       "      <td>10</td>\n",
       "      <td>2</td>\n",
       "      <td>3</td>\n",
       "      <td>98</td>\n",
       "      <td>28.796951</td>\n",
       "    </tr>\n",
       "    <tr>\n",
       "      <th>181798</th>\n",
       "      <td>10</td>\n",
       "      <td>3</td>\n",
       "      <td>10</td>\n",
       "      <td>2</td>\n",
       "      <td>3</td>\n",
       "      <td>99</td>\n",
       "      <td>28.432936</td>\n",
       "    </tr>\n",
       "    <tr>\n",
       "      <th>181799</th>\n",
       "      <td>10</td>\n",
       "      <td>3</td>\n",
       "      <td>10</td>\n",
       "      <td>2</td>\n",
       "      <td>3</td>\n",
       "      <td>100</td>\n",
       "      <td>28.136438</td>\n",
       "    </tr>\n",
       "  </tbody>\n",
       "</table>\n",
       "<p>181800 rows × 7 columns</p>\n",
       "</div>"
      ],
      "text/plain": [
       "        subject  condition  replication  leg  joint  time      angle\n",
       "0             1          1            1    1      1     0   4.682881\n",
       "1             1          1            1    1      1     1   5.073127\n",
       "2             1          1            1    1      1     2   5.229774\n",
       "3             1          1            1    1      1     3   5.083273\n",
       "4             1          1            1    1      1     4   4.652399\n",
       "...         ...        ...          ...  ...    ...   ...        ...\n",
       "181795       10          3           10    2      3    96  29.778412\n",
       "181796       10          3           10    2      3    97  29.247559\n",
       "181797       10          3           10    2      3    98  28.796951\n",
       "181798       10          3           10    2      3    99  28.432936\n",
       "181799       10          3           10    2      3   100  28.136438\n",
       "\n",
       "[181800 rows x 7 columns]"
      ]
     },
     "execution_count": 47,
     "metadata": {},
     "output_type": "execute_result"
    }
   ],
   "source": [
    "df"
   ]
  },
  {
   "cell_type": "code",
   "execution_count": 48,
   "id": "7f9f38b1",
   "metadata": {},
   "outputs": [
    {
     "data": {
      "text/plain": [
       "(181800, 7)"
      ]
     },
     "execution_count": 48,
     "metadata": {},
     "output_type": "execute_result"
    }
   ],
   "source": [
    "df.shape    #181800 -- rows , 7 -- columns"
   ]
  },
  {
   "cell_type": "code",
   "execution_count": 49,
   "id": "c20a7ec1",
   "metadata": {},
   "outputs": [],
   "source": [
    "df = df.reindex(columns=['subject', 'replication','leg', 'joint','time', 'angle','condition'])"
   ]
  },
  {
   "cell_type": "code",
   "execution_count": 50,
   "id": "ca37c43f",
   "metadata": {},
   "outputs": [
    {
     "data": {
      "text/html": [
       "<div>\n",
       "<style scoped>\n",
       "    .dataframe tbody tr th:only-of-type {\n",
       "        vertical-align: middle;\n",
       "    }\n",
       "\n",
       "    .dataframe tbody tr th {\n",
       "        vertical-align: top;\n",
       "    }\n",
       "\n",
       "    .dataframe thead th {\n",
       "        text-align: right;\n",
       "    }\n",
       "</style>\n",
       "<table border=\"1\" class=\"dataframe\">\n",
       "  <thead>\n",
       "    <tr style=\"text-align: right;\">\n",
       "      <th></th>\n",
       "      <th>subject</th>\n",
       "      <th>replication</th>\n",
       "      <th>leg</th>\n",
       "      <th>joint</th>\n",
       "      <th>time</th>\n",
       "      <th>angle</th>\n",
       "      <th>condition</th>\n",
       "    </tr>\n",
       "  </thead>\n",
       "  <tbody>\n",
       "    <tr>\n",
       "      <th>0</th>\n",
       "      <td>1</td>\n",
       "      <td>1</td>\n",
       "      <td>1</td>\n",
       "      <td>1</td>\n",
       "      <td>0</td>\n",
       "      <td>4.682881</td>\n",
       "      <td>1</td>\n",
       "    </tr>\n",
       "    <tr>\n",
       "      <th>1</th>\n",
       "      <td>1</td>\n",
       "      <td>1</td>\n",
       "      <td>1</td>\n",
       "      <td>1</td>\n",
       "      <td>1</td>\n",
       "      <td>5.073127</td>\n",
       "      <td>1</td>\n",
       "    </tr>\n",
       "    <tr>\n",
       "      <th>2</th>\n",
       "      <td>1</td>\n",
       "      <td>1</td>\n",
       "      <td>1</td>\n",
       "      <td>1</td>\n",
       "      <td>2</td>\n",
       "      <td>5.229774</td>\n",
       "      <td>1</td>\n",
       "    </tr>\n",
       "    <tr>\n",
       "      <th>3</th>\n",
       "      <td>1</td>\n",
       "      <td>1</td>\n",
       "      <td>1</td>\n",
       "      <td>1</td>\n",
       "      <td>3</td>\n",
       "      <td>5.083273</td>\n",
       "      <td>1</td>\n",
       "    </tr>\n",
       "    <tr>\n",
       "      <th>4</th>\n",
       "      <td>1</td>\n",
       "      <td>1</td>\n",
       "      <td>1</td>\n",
       "      <td>1</td>\n",
       "      <td>4</td>\n",
       "      <td>4.652399</td>\n",
       "      <td>1</td>\n",
       "    </tr>\n",
       "    <tr>\n",
       "      <th>...</th>\n",
       "      <td>...</td>\n",
       "      <td>...</td>\n",
       "      <td>...</td>\n",
       "      <td>...</td>\n",
       "      <td>...</td>\n",
       "      <td>...</td>\n",
       "      <td>...</td>\n",
       "    </tr>\n",
       "    <tr>\n",
       "      <th>181795</th>\n",
       "      <td>10</td>\n",
       "      <td>10</td>\n",
       "      <td>2</td>\n",
       "      <td>3</td>\n",
       "      <td>96</td>\n",
       "      <td>29.778412</td>\n",
       "      <td>3</td>\n",
       "    </tr>\n",
       "    <tr>\n",
       "      <th>181796</th>\n",
       "      <td>10</td>\n",
       "      <td>10</td>\n",
       "      <td>2</td>\n",
       "      <td>3</td>\n",
       "      <td>97</td>\n",
       "      <td>29.247559</td>\n",
       "      <td>3</td>\n",
       "    </tr>\n",
       "    <tr>\n",
       "      <th>181797</th>\n",
       "      <td>10</td>\n",
       "      <td>10</td>\n",
       "      <td>2</td>\n",
       "      <td>3</td>\n",
       "      <td>98</td>\n",
       "      <td>28.796951</td>\n",
       "      <td>3</td>\n",
       "    </tr>\n",
       "    <tr>\n",
       "      <th>181798</th>\n",
       "      <td>10</td>\n",
       "      <td>10</td>\n",
       "      <td>2</td>\n",
       "      <td>3</td>\n",
       "      <td>99</td>\n",
       "      <td>28.432936</td>\n",
       "      <td>3</td>\n",
       "    </tr>\n",
       "    <tr>\n",
       "      <th>181799</th>\n",
       "      <td>10</td>\n",
       "      <td>10</td>\n",
       "      <td>2</td>\n",
       "      <td>3</td>\n",
       "      <td>100</td>\n",
       "      <td>28.136438</td>\n",
       "      <td>3</td>\n",
       "    </tr>\n",
       "  </tbody>\n",
       "</table>\n",
       "<p>181800 rows × 7 columns</p>\n",
       "</div>"
      ],
      "text/plain": [
       "        subject  replication  leg  joint  time      angle  condition\n",
       "0             1            1    1      1     0   4.682881          1\n",
       "1             1            1    1      1     1   5.073127          1\n",
       "2             1            1    1      1     2   5.229774          1\n",
       "3             1            1    1      1     3   5.083273          1\n",
       "4             1            1    1      1     4   4.652399          1\n",
       "...         ...          ...  ...    ...   ...        ...        ...\n",
       "181795       10           10    2      3    96  29.778412          3\n",
       "181796       10           10    2      3    97  29.247559          3\n",
       "181797       10           10    2      3    98  28.796951          3\n",
       "181798       10           10    2      3    99  28.432936          3\n",
       "181799       10           10    2      3   100  28.136438          3\n",
       "\n",
       "[181800 rows x 7 columns]"
      ]
     },
     "execution_count": 50,
     "metadata": {},
     "output_type": "execute_result"
    }
   ],
   "source": [
    "df #reindexed cols"
   ]
  },
  {
   "cell_type": "code",
   "execution_count": 51,
   "id": "a1a3c898",
   "metadata": {},
   "outputs": [
    {
     "data": {
      "text/plain": [
       "subject        0\n",
       "replication    0\n",
       "leg            0\n",
       "joint          0\n",
       "time           0\n",
       "angle          0\n",
       "condition      0\n",
       "dtype: int64"
      ]
     },
     "execution_count": 51,
     "metadata": {},
     "output_type": "execute_result"
    }
   ],
   "source": [
    "df.isna().sum() #no Nan Values"
   ]
  },
  {
   "cell_type": "code",
   "execution_count": 52,
   "id": "9f228750",
   "metadata": {},
   "outputs": [],
   "source": [
    "condition_map = {1: 0, 2 : 1,3 : 2}\n",
    "df['condition'] = df['condition'].map(condition_map)   #mapping target column as 1: 0, 2 : 1,3 : 2 (condition)"
   ]
  },
  {
   "cell_type": "code",
   "execution_count": 53,
   "id": "0bb250ef",
   "metadata": {},
   "outputs": [
    {
     "data": {
      "text/plain": [
       "(181800, 7)"
      ]
     },
     "execution_count": 53,
     "metadata": {},
     "output_type": "execute_result"
    }
   ],
   "source": [
    "df.shape"
   ]
  },
  {
   "cell_type": "code",
   "execution_count": 54,
   "id": "b6de1516",
   "metadata": {},
   "outputs": [],
   "source": [
    "X = df.iloc[:,0:-1]   # subject replication leg joint time angle\n",
    "y = df.iloc[:,-1]     # condition"
   ]
  },
  {
   "cell_type": "code",
   "execution_count": 57,
   "id": "1b62bfae",
   "metadata": {},
   "outputs": [],
   "source": [
    "X_train, X_test, y_train, y_test = train_test_split(X, y, test_size=0.3)"
   ]
  },
  {
   "cell_type": "code",
   "execution_count": 58,
   "id": "d176ee98",
   "metadata": {},
   "outputs": [
    {
     "name": "stdout",
     "output_type": "stream",
     "text": [
      "(127260, 6)\n",
      "(54540, 6)\n"
     ]
    }
   ],
   "source": [
    "print(X_train.shape)\n",
    "print(X_test.shape)"
   ]
  },
  {
   "cell_type": "markdown",
   "id": "8afbd9b9",
   "metadata": {},
   "source": [
    "# RandomForestClassifier"
   ]
  },
  {
   "cell_type": "code",
   "execution_count": 59,
   "id": "0d4887ea",
   "metadata": {},
   "outputs": [
    {
     "name": "stdout",
     "output_type": "stream",
     "text": [
      "{'classifier__max_depth': 30, 'classifier__n_estimators': 120, 'pca__n_components': 5}\n",
      "0.5395568128241395\n"
     ]
    }
   ],
   "source": [
    "c"
   ]
  },
  {
   "cell_type": "code",
   "execution_count": 62,
   "id": "e6d5848d",
   "metadata": {},
   "outputs": [
    {
     "name": "stdout",
     "output_type": "stream",
     "text": [
      "Accuracy score: 0.5644481114778145\n"
     ]
    }
   ],
   "source": [
    "y_pred = grid.predict(X_test)\n",
    "print(\"Accuracy score:\", accuracy_score(y_test, y_pred))"
   ]
  },
  {
   "cell_type": "markdown",
   "id": "81eaf1a5",
   "metadata": {},
   "source": [
    "# Support vector time Taking"
   ]
  },
  {
   "cell_type": "raw",
   "id": "768e4796",
   "metadata": {},
   "source": [
    "pipe = Pipeline([\n",
    "    ('scaler', StandardScaler()),                      #first it will standardize the data then \n",
    "    ('pca', PCA()),                                    #it will reduce the dimensions\n",
    "    ('classifier', SVC())                              #then it will apply svm taking too much time\n",
    "])\n",
    "\n",
    "param_grid = {\n",
    "    'pca__n_components': [5],\n",
    "    'classifier__C': [1],\n",
    "    'classifier__kernel': ['poly'],\n",
    "    'classifier__gamma': ['auto']\n",
    "}\n",
    "\n",
    "grid = GridSearchCV(pipe, param_grid=param_grid, cv=2,n_jobs = -1)\n",
    "grid.fit(X_train, y_train)\n",
    "\n",
    "print(grid.best_params_)\n",
    "print(grid.best_score_)"
   ]
  },
  {
   "cell_type": "raw",
   "id": "97dac417",
   "metadata": {},
   "source": [
    "y_pred = grid.predict(X_test)\n",
    "print(\"Accuracy score:\", accuracy_score(y_test, y_pred))"
   ]
  },
  {
   "cell_type": "markdown",
   "id": "764d7b73",
   "metadata": {},
   "source": [
    "# LOGISTIC REGRESSION"
   ]
  },
  {
   "cell_type": "code",
   "execution_count": 37,
   "id": "eeadedff",
   "metadata": {},
   "outputs": [
    {
     "name": "stdout",
     "output_type": "stream",
     "text": [
      "{'logreg__C': 1, 'logreg__penalty': 'l2', 'pca__n_components': 6}\n",
      "0.38521923620933524\n"
     ]
    }
   ],
   "source": [
    "pipeline = Pipeline([\n",
    "    ('scaler', StandardScaler()),\n",
    "    ('pca', PCA()),\n",
    "    ('logreg', LogisticRegression(multi_class='multinomial', solver='lbfgs'))\n",
    "])\n",
    "\n",
    "param_grid = {\n",
    "    'pca__n_components': [6],\n",
    "    'logreg__C': [1],\n",
    "    'logreg__penalty': ['l2']\n",
    "}\n",
    "\n",
    "grid = GridSearchCV(estimator=pipeline, param_grid=param_grid, cv=5,n_jobs=-1)\n",
    "grid.fit(X_train, y_train)\n",
    "\n",
    "print(grid.best_params_)\n",
    "print(grid.best_score_)"
   ]
  },
  {
   "cell_type": "code",
   "execution_count": 38,
   "id": "7e08a2e2",
   "metadata": {},
   "outputs": [
    {
     "name": "stdout",
     "output_type": "stream",
     "text": [
      "Accuracy score: 0.3831683168316832\n"
     ]
    }
   ],
   "source": [
    "y_pred = grid.predict(X_test)\n",
    "print(\"Accuracy score:\", accuracy_score(y_test, y_pred))"
   ]
  },
  {
   "cell_type": "markdown",
   "id": "b2589d73",
   "metadata": {},
   "source": [
    "# Neural Network"
   ]
  },
  {
   "cell_type": "code",
   "execution_count": 80,
   "id": "f5f3e54c",
   "metadata": {
    "scrolled": false
   },
   "outputs": [
    {
     "name": "stdout",
     "output_type": "stream",
     "text": [
      "Epoch 1/20\n",
      "1591/1591 [==============================] - 7s 5ms/step - loss: 1.0445 - accuracy: 0.4183 - val_loss: 19.2340 - val_accuracy: 0.3268\n",
      "Epoch 2/20\n",
      "1591/1591 [==============================] - 8s 5ms/step - loss: 0.9986 - accuracy: 0.4515 - val_loss: 26.3587 - val_accuracy: 0.3145\n",
      "Epoch 3/20\n",
      "1591/1591 [==============================] - 8s 5ms/step - loss: 0.9677 - accuracy: 0.4716 - val_loss: 38.7646 - val_accuracy: 0.3336\n",
      "Epoch 4/20\n",
      "1591/1591 [==============================] - 8s 5ms/step - loss: 0.9431 - accuracy: 0.4907 - val_loss: 53.8442 - val_accuracy: 0.3302\n",
      "Epoch 5/20\n",
      "1591/1591 [==============================] - 8s 5ms/step - loss: 0.9257 - accuracy: 0.5008 - val_loss: 72.8263 - val_accuracy: 0.3155\n",
      "Epoch 6/20\n",
      "1591/1591 [==============================] - 6s 4ms/step - loss: 0.9124 - accuracy: 0.5091 - val_loss: 85.2487 - val_accuracy: 0.3373\n",
      "Epoch 7/20\n",
      "1591/1591 [==============================] - 6s 4ms/step - loss: 0.9026 - accuracy: 0.5160 - val_loss: 95.7623 - val_accuracy: 0.3201\n",
      "Epoch 8/20\n",
      "1591/1591 [==============================] - 5s 3ms/step - loss: 0.8954 - accuracy: 0.5189 - val_loss: 107.4142 - val_accuracy: 0.3183\n",
      "Epoch 9/20\n",
      "1591/1591 [==============================] - 5s 3ms/step - loss: 0.8901 - accuracy: 0.5232 - val_loss: 112.0792 - val_accuracy: 0.3354\n",
      "Epoch 10/20\n",
      "1591/1591 [==============================] - 5s 3ms/step - loss: 0.8853 - accuracy: 0.5262 - val_loss: 120.6551 - val_accuracy: 0.3334 0.8854 - accuracy: 0.\n",
      "Epoch 11/20\n",
      "1591/1591 [==============================] - 5s 3ms/step - loss: 0.8809 - accuracy: 0.5304 - val_loss: 128.6881 - val_accuracy: 0.3280\n",
      "Epoch 12/20\n",
      "1591/1591 [==============================] - 4s 2ms/step - loss: 0.8769 - accuracy: 0.5314 - val_loss: 134.7428 - val_accuracy: 0.3149\n",
      "Epoch 13/20\n",
      "1591/1591 [==============================] - 6s 4ms/step - loss: 0.8736 - accuracy: 0.5349 - val_loss: 150.0077 - val_accuracy: 0.3365\n",
      "Epoch 14/20\n",
      "1591/1591 [==============================] - 5s 3ms/step - loss: 0.8704 - accuracy: 0.5357 - val_loss: 147.8545 - val_accuracy: 0.3327\n",
      "Epoch 15/20\n",
      "1591/1591 [==============================] - 6s 4ms/step - loss: 0.8678 - accuracy: 0.5368 - val_loss: 154.3750 - val_accuracy: 0.3153\n",
      "Epoch 16/20\n",
      "1591/1591 [==============================] - 7s 4ms/step - loss: 0.8646 - accuracy: 0.5416 - val_loss: 165.1727 - val_accuracy: 0.3356\n",
      "Epoch 17/20\n",
      "1591/1591 [==============================] - 7s 4ms/step - loss: 0.8630 - accuracy: 0.5403 - val_loss: 170.0183 - val_accuracy: 0.3297\n",
      "Epoch 18/20\n",
      "1591/1591 [==============================] - 6s 4ms/step - loss: 0.8600 - accuracy: 0.5436 - val_loss: 169.2596 - val_accuracy: 0.3290\n",
      "Epoch 19/20\n",
      "1591/1591 [==============================] - 6s 4ms/step - loss: 0.8576 - accuracy: 0.5439 - val_loss: 177.4382 - val_accuracy: 0.3259\n",
      "Epoch 20/20\n",
      "1591/1591 [==============================] - 6s 4ms/step - loss: 0.8562 - accuracy: 0.5449 - val_loss: 186.8360 - val_accuracy: 0.3345\n",
      "1705/1705 [==============================] - 3s 2ms/step - loss: 186.8359 - accuracy: 0.3345\n",
      "Accuracy: 0.3345067799091339\n"
     ]
    }
   ],
   "source": [
    "from keras.models import Sequential\n",
    "from keras.layers import Dense\n",
    "\n",
    "# Create pipeline\n",
    "pipeline = Pipeline([\n",
    "    ('scaler', StandardScaler()),\n",
    "    ('pca', PCA(n_components=6)),\n",
    "    ('model', Sequential([\n",
    "        Dense(64, input_dim=6, activation='relu'),\n",
    "        Dense(32, activation='relu'),\n",
    "        Dense(3, activation='softmax')\n",
    "    ]))\n",
    "])\n",
    "\n",
    "# Compile the model\n",
    "pipeline.named_steps['model'].compile(loss='sparse_categorical_crossentropy', optimizer='adam', metrics=['accuracy'])\n",
    "\n",
    "# Train the model\n",
    "pipeline.fit(X_train, y_train, model__epochs=20, model__batch_size=80, model__validation_data=(X_test, y_test))\n",
    "\n",
    "# Evaluate the model\n",
    "loss, accuracy = pipeline.named_steps['model'].evaluate(X_test, y_test)\n",
    "print('Accuracy:', accuracy)\n",
    "\n",
    "\n",
    "# Use the model for prediction\n",
    "#X_new = np.random.rand(5, 10)\n",
    "#y_pred = pipeline.predict(X_new)\n",
    "#print(y_pred)"
   ]
  },
  {
   "cell_type": "markdown",
   "id": "839bd875",
   "metadata": {},
   "source": [
    "# Naive Bayes"
   ]
  },
  {
   "cell_type": "code",
   "execution_count": 97,
   "id": "082d02ea",
   "metadata": {
    "scrolled": true
   },
   "outputs": [
    {
     "name": "stdout",
     "output_type": "stream",
     "text": [
      "{'pca__n_components': 5}\n",
      "0.37162501964482164\n"
     ]
    }
   ],
   "source": [
    "pipe = Pipeline([\n",
    "    ('scaler', StandardScaler()),                      #first it will standardize the data then \n",
    "    ('pca', PCA()),                                    #it will reduce the dimensions\n",
    "    ('classifier', GaussianNB())                       #then it will apply Naive Bayes\n",
    "])\n",
    "\n",
    "param_grid = {\n",
    "    'pca__n_components': [5],\n",
    "}\n",
    "\n",
    "grid = GridSearchCV(pipe, param_grid=param_grid, cv=2, n_jobs=-1)\n",
    "grid.fit(X_train, y_train)\n",
    "\n",
    "print(grid.best_params_)\n",
    "print(grid.best_score_)"
   ]
  },
  {
   "cell_type": "code",
   "execution_count": 98,
   "id": "2870b159",
   "metadata": {},
   "outputs": [
    {
     "name": "stdout",
     "output_type": "stream",
     "text": [
      "Accuracy score: 0.36998533186652\n"
     ]
    }
   ],
   "source": [
    "y_pred = grid.predict(X_test)\n",
    "print(\"Accuracy score:\", accuracy_score(y_test, y_pred))"
   ]
  },
  {
   "cell_type": "markdown",
   "id": "7cca17df",
   "metadata": {},
   "source": [
    "# Perceptron"
   ]
  },
  {
   "cell_type": "code",
   "execution_count": 95,
   "id": "e5a020ab",
   "metadata": {},
   "outputs": [
    {
     "name": "stdout",
     "output_type": "stream",
     "text": [
      "{'classifier__eta0': 0.01, 'classifier__max_iter': 1000, 'pca__n_components': 6}\n",
      "0.3406804966210907\n"
     ]
    }
   ],
   "source": [
    "pipe = Pipeline([\n",
    "    ('scaler', StandardScaler()), # Apply standard scaling to the features\n",
    "    ('pca', PCA()), # Reduce the dimensionality using PCA\n",
    "    ('classifier', Perceptron()) # Use Perceptron as the classifier instead of GaussianNB\n",
    "])\n",
    "\n",
    "# Define the parameter grid for GridSearchCV\n",
    "param_grid = {\n",
    "    'pca__n_components': [1,2,3,4,5,6], # Tune the number of components for PCA\n",
    "    'classifier__eta0': [0.01, 0.1, 1], # Tune the learning rate for Perceptron\n",
    "    'classifier__max_iter': [1000, 2000, 3000] # Tune the maximum number of iterations for Perceptron\n",
    "}\n",
    "\n",
    "# Create the GridSearchCV object\n",
    "grid = GridSearchCV(pipe, param_grid=param_grid, cv=5, n_jobs=-1)\n",
    "\n",
    "# Train the pipeline on the train set using GridSearchCV\n",
    "grid.fit(X_train, y_train)\n",
    "\n",
    "# Print the best parameters found by GridSearchCV\n",
    "print(grid.best_params_)\n",
    "print(grid.best_score_)"
   ]
  },
  {
   "cell_type": "code",
   "execution_count": 96,
   "id": "80a04c67",
   "metadata": {},
   "outputs": [
    {
     "name": "stdout",
     "output_type": "stream",
     "text": [
      "Accuracy score: 0.33562522918958565\n"
     ]
    }
   ],
   "source": [
    "y_pred = grid.predict(X_test)\n",
    "print(\"Accuracy score:\", accuracy_score(y_test, y_pred))"
   ]
  },
  {
   "cell_type": "code",
   "execution_count": 9,
   "id": "0f3863e4",
   "metadata": {},
   "outputs": [
    {
     "data": {
      "image/png": "[encoded data removed]",
      "text/plain": [
       "<Figure size 720x432 with 1 Axes>"
      ]
     },
     "metadata": {},
     "output_type": "display_data"
    }
   ],
   "source": [
    "import seaborn as sns\n",
    "import matplotlib.pyplot as plt\n",
    "\n",
    "# Create a list of algorithms and their accuracy\n",
    "algorithms = ['Random Forest', 'Logistic Regression', 'Neural Network', 'Naive Bayes', 'Perceptron']\n",
    "accuracy = [56, 38, 33, 37, 34]\n",
    "\n",
    "# Create a dictionary with the data\n",
    "data = {'Algorithm': algorithms, 'Accuracy': accuracy}\n",
    "\n",
    "# Convert the dictionary to a Pandas DataFrame\n",
    "df = pd.DataFrame(data)\n",
    "\n",
    "# Set the style of the plot\n",
    "sns.set_style('whitegrid')\n",
    "sns.set_palette('Paired')\n",
    "\n",
    "# Set the figure size\n",
    "plt.figure(figsize=(10,6))\n",
    "\n",
    "# Create a bar plot using Seaborn\n",
    "ax = sns.barplot(x='Algorithm', y='Accuracy', data=df)\n",
    "\n",
    "# Add labels to the plot\n",
    "ax.set_title('Accuracy of Five Algorithms', fontsize=18, fontweight='bold')\n",
    "ax.set_xlabel('Algorithm', fontsize=14, fontweight='bold')\n",
    "ax.set_ylabel('Accuracy (%)', fontsize=14, fontweight='bold')\n",
    "ax.tick_params(axis='both', labelsize=12, pad=10)\n",
    "\n",
    "# Rotate the x-axis labels\n",
    "ax.set_xticklabels(ax.get_xticklabels(), rotation=45, ha='right')\n",
    "\n",
    "# Add text annotations to the bars\n",
    "for i in range(len(algorithms)):\n",
    "    ax.text(i, accuracy[i]+1, str(accuracy[i])+'%', ha='center', fontsize=14, fontweight='bold')\n",
    "\n",
    "# Add a horizontal line to the plot\n",
    "ax.axhline(y=max(accuracy), color='red', alpha=0.5, linestyle='--')\n",
    "ax.text(len(algorithms)-1, max(accuracy)+1, 'Max Accuracy: '+str(max(accuracy))+'%', ha='right', va='bottom', fontsize=14, fontweight='bold')\n",
    "\n",
    "# Display the plot\n",
    "plt.tight_layout()\n",
    "plt.show()"
   ]
  },
  {
   "cell_type": "code",
   "execution_count": null,
   "id": "75c86439",
   "metadata": {},
   "outputs": [],
   "source": []
  }
 ],
 "metadata": {
  "kernelspec": {
   "display_name": "Python 3 (ipykernel)",
   "language": "python",
   "name": "python3"
  },
  "language_info": {
   "codemirror_mode": {
    "name": "ipython",
    "version": 3
   },
   "file_extension": ".py",
   "mimetype": "text/x-python",
   "name": "python",
   "nbconvert_exporter": "python",
   "pygments_lexer": "ipython3",
   "version": "3.8.3"
  }
 },
 "nbformat": 4,
 "nbformat_minor": 5
}
