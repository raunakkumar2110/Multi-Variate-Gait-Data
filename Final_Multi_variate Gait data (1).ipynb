{
 "cells": [
  {
   "cell_type": "code",
   "execution_count": 1,
   "id": "8a3e4099",
   "metadata": {},
   "outputs": [],
   "source": [
    "import tensorflow as tf\n",
    "from tensorflow import keras\n",
    "import numpy as np\n",
    "import pandas as pd\n",
    "from sklearn.ensemble import RandomForestClassifier\n",
    "from sklearn.decomposition import PCA\n",
    "from sklearn.pipeline import Pipeline\n",
    "from sklearn.metrics import accuracy_score\n",
    "from sklearn.model_selection import GridSearchCV\n",
    "from sklearn.preprocessing import StandardScaler\n",
    "from sklearn.tree import DecisionTreeClassifier\n",
    "from sklearn.model_selection import train_test_split\n",
    "from sklearn.svm import SVC\n",
    "from sklearn.linear_model import LogisticRegression\n",
    "from sklearn.naive_bayes import GaussianNB\n",
    "from sklearn.linear_model import Perceptron"
   ]
  },
  {
   "cell_type": "code",
   "execution_count": 2,
   "id": "2144bcef",
   "metadata": {},
   "outputs": [],
   "source": [
    "data = pd.read_csv(\"gait.csv\")"
   ]
  },
  {
   "cell_type": "code",
   "execution_count": 3,
   "id": "65b027c3",
   "metadata": {},
   "outputs": [],
   "source": [
    "df = data.copy()"
   ]
  },
  {
   "cell_type": "code",
   "execution_count": 4,
   "id": "3e78e815",
   "metadata": {},
   "outputs": [
    {
     "data": {
      "text/html": [
       "<div>\n",
       "<style scoped>\n",
       "    .dataframe tbody tr th:only-of-type {\n",
       "        vertical-align: middle;\n",
       "    }\n",
       "\n",
       "    .dataframe tbody tr th {\n",
       "        vertical-align: top;\n",
       "    }\n",
       "\n",
       "    .dataframe thead th {\n",
       "        text-align: right;\n",
       "    }\n",
       "</style>\n",
       "<table border=\"1\" class=\"dataframe\">\n",
       "  <thead>\n",
       "    <tr style=\"text-align: right;\">\n",
       "      <th></th>\n",
       "      <th>subject</th>\n",
       "      <th>condition</th>\n",
       "      <th>replication</th>\n",
       "      <th>leg</th>\n",
       "      <th>joint</th>\n",
       "      <th>time</th>\n",
       "      <th>angle</th>\n",
       "    </tr>\n",
       "  </thead>\n",
       "  <tbody>\n",
       "    <tr>\n",
       "      <th>0</th>\n",
       "      <td>1</td>\n",
       "      <td>1</td>\n",
       "      <td>1</td>\n",
       "      <td>1</td>\n",
       "      <td>1</td>\n",
       "      <td>0</td>\n",
       "      <td>4.682881</td>\n",
       "    </tr>\n",
       "    <tr>\n",
       "      <th>1</th>\n",
       "      <td>1</td>\n",
       "      <td>1</td>\n",
       "      <td>1</td>\n",
       "      <td>1</td>\n",
       "      <td>1</td>\n",
       "      <td>1</td>\n",
       "      <td>5.073127</td>\n",
       "    </tr>\n",
       "    <tr>\n",
       "      <th>2</th>\n",
       "      <td>1</td>\n",
       "      <td>1</td>\n",
       "      <td>1</td>\n",
       "      <td>1</td>\n",
       "      <td>1</td>\n",
       "      <td>2</td>\n",
       "      <td>5.229774</td>\n",
       "    </tr>\n",
       "    <tr>\n",
       "      <th>3</th>\n",
       "      <td>1</td>\n",
       "      <td>1</td>\n",
       "      <td>1</td>\n",
       "      <td>1</td>\n",
       "      <td>1</td>\n",
       "      <td>3</td>\n",
       "      <td>5.083273</td>\n",
       "    </tr>\n",
       "    <tr>\n",
       "      <th>4</th>\n",
       "      <td>1</td>\n",
       "      <td>1</td>\n",
       "      <td>1</td>\n",
       "      <td>1</td>\n",
       "      <td>1</td>\n",
       "      <td>4</td>\n",
       "      <td>4.652399</td>\n",
       "    </tr>\n",
       "    <tr>\n",
       "      <th>...</th>\n",
       "      <td>...</td>\n",
       "      <td>...</td>\n",
       "      <td>...</td>\n",
       "      <td>...</td>\n",
       "      <td>...</td>\n",
       "      <td>...</td>\n",
       "      <td>...</td>\n",
       "    </tr>\n",
       "    <tr>\n",
       "      <th>181795</th>\n",
       "      <td>10</td>\n",
       "      <td>3</td>\n",
       "      <td>10</td>\n",
       "      <td>2</td>\n",
       "      <td>3</td>\n",
       "      <td>96</td>\n",
       "      <td>29.778412</td>\n",
       "    </tr>\n",
       "    <tr>\n",
       "      <th>181796</th>\n",
       "      <td>10</td>\n",
       "      <td>3</td>\n",
       "      <td>10</td>\n",
       "      <td>2</td>\n",
       "      <td>3</td>\n",
       "      <td>97</td>\n",
       "      <td>29.247559</td>\n",
       "    </tr>\n",
       "    <tr>\n",
       "      <th>181797</th>\n",
       "      <td>10</td>\n",
       "      <td>3</td>\n",
       "      <td>10</td>\n",
       "      <td>2</td>\n",
       "      <td>3</td>\n",
       "      <td>98</td>\n",
       "      <td>28.796951</td>\n",
       "    </tr>\n",
       "    <tr>\n",
       "      <th>181798</th>\n",
       "      <td>10</td>\n",
       "      <td>3</td>\n",
       "      <td>10</td>\n",
       "      <td>2</td>\n",
       "      <td>3</td>\n",
       "      <td>99</td>\n",
       "      <td>28.432936</td>\n",
       "    </tr>\n",
       "    <tr>\n",
       "      <th>181799</th>\n",
       "      <td>10</td>\n",
       "      <td>3</td>\n",
       "      <td>10</td>\n",
       "      <td>2</td>\n",
       "      <td>3</td>\n",
       "      <td>100</td>\n",
       "      <td>28.136438</td>\n",
       "    </tr>\n",
       "  </tbody>\n",
       "</table>\n",
       "<p>181800 rows × 7 columns</p>\n",
       "</div>"
      ],
      "text/plain": [
       "        subject  condition  replication  leg  joint  time      angle\n",
       "0             1          1            1    1      1     0   4.682881\n",
       "1             1          1            1    1      1     1   5.073127\n",
       "2             1          1            1    1      1     2   5.229774\n",
       "3             1          1            1    1      1     3   5.083273\n",
       "4             1          1            1    1      1     4   4.652399\n",
       "...         ...        ...          ...  ...    ...   ...        ...\n",
       "181795       10          3           10    2      3    96  29.778412\n",
       "181796       10          3           10    2      3    97  29.247559\n",
       "181797       10          3           10    2      3    98  28.796951\n",
       "181798       10          3           10    2      3    99  28.432936\n",
       "181799       10          3           10    2      3   100  28.136438\n",
       "\n",
       "[181800 rows x 7 columns]"
      ]
     },
     "execution_count": 4,
     "metadata": {},
     "output_type": "execute_result"
    }
   ],
   "source": [
    "df"
   ]
  },
  {
   "cell_type": "code",
   "execution_count": 5,
   "id": "7f9f38b1",
   "metadata": {},
   "outputs": [
    {
     "data": {
      "text/plain": [
       "(181800, 7)"
      ]
     },
     "execution_count": 5,
     "metadata": {},
     "output_type": "execute_result"
    }
   ],
   "source": [
    "df.shape    #181800 -- rows , 7 -- columns"
   ]
  },
  {
   "cell_type": "code",
   "execution_count": 6,
   "id": "c20a7ec1",
   "metadata": {},
   "outputs": [],
   "source": [
    "df = df.reindex(columns=['subject', 'replication','leg', 'joint','time', 'angle','condition'])"
   ]
  },
  {
   "cell_type": "code",
   "execution_count": 7,
   "id": "ca37c43f",
   "metadata": {},
   "outputs": [
    {
     "data": {
      "text/html": [
       "<div>\n",
       "<style scoped>\n",
       "    .dataframe tbody tr th:only-of-type {\n",
       "        vertical-align: middle;\n",
       "    }\n",
       "\n",
       "    .dataframe tbody tr th {\n",
       "        vertical-align: top;\n",
       "    }\n",
       "\n",
       "    .dataframe thead th {\n",
       "        text-align: right;\n",
       "    }\n",
       "</style>\n",
       "<table border=\"1\" class=\"dataframe\">\n",
       "  <thead>\n",
       "    <tr style=\"text-align: right;\">\n",
       "      <th></th>\n",
       "      <th>subject</th>\n",
       "      <th>replication</th>\n",
       "      <th>leg</th>\n",
       "      <th>joint</th>\n",
       "      <th>time</th>\n",
       "      <th>angle</th>\n",
       "      <th>condition</th>\n",
       "    </tr>\n",
       "  </thead>\n",
       "  <tbody>\n",
       "    <tr>\n",
       "      <th>0</th>\n",
       "      <td>1</td>\n",
       "      <td>1</td>\n",
       "      <td>1</td>\n",
       "      <td>1</td>\n",
       "      <td>0</td>\n",
       "      <td>4.682881</td>\n",
       "      <td>1</td>\n",
       "    </tr>\n",
       "    <tr>\n",
       "      <th>1</th>\n",
       "      <td>1</td>\n",
       "      <td>1</td>\n",
       "      <td>1</td>\n",
       "      <td>1</td>\n",
       "      <td>1</td>\n",
       "      <td>5.073127</td>\n",
       "      <td>1</td>\n",
       "    </tr>\n",
       "    <tr>\n",
       "      <th>2</th>\n",
       "      <td>1</td>\n",
       "      <td>1</td>\n",
       "      <td>1</td>\n",
       "      <td>1</td>\n",
       "      <td>2</td>\n",
       "      <td>5.229774</td>\n",
       "      <td>1</td>\n",
       "    </tr>\n",
       "    <tr>\n",
       "      <th>3</th>\n",
       "      <td>1</td>\n",
       "      <td>1</td>\n",
       "      <td>1</td>\n",
       "      <td>1</td>\n",
       "      <td>3</td>\n",
       "      <td>5.083273</td>\n",
       "      <td>1</td>\n",
       "    </tr>\n",
       "    <tr>\n",
       "      <th>4</th>\n",
       "      <td>1</td>\n",
       "      <td>1</td>\n",
       "      <td>1</td>\n",
       "      <td>1</td>\n",
       "      <td>4</td>\n",
       "      <td>4.652399</td>\n",
       "      <td>1</td>\n",
       "    </tr>\n",
       "    <tr>\n",
       "      <th>...</th>\n",
       "      <td>...</td>\n",
       "      <td>...</td>\n",
       "      <td>...</td>\n",
       "      <td>...</td>\n",
       "      <td>...</td>\n",
       "      <td>...</td>\n",
       "      <td>...</td>\n",
       "    </tr>\n",
       "    <tr>\n",
       "      <th>181795</th>\n",
       "      <td>10</td>\n",
       "      <td>10</td>\n",
       "      <td>2</td>\n",
       "      <td>3</td>\n",
       "      <td>96</td>\n",
       "      <td>29.778412</td>\n",
       "      <td>3</td>\n",
       "    </tr>\n",
       "    <tr>\n",
       "      <th>181796</th>\n",
       "      <td>10</td>\n",
       "      <td>10</td>\n",
       "      <td>2</td>\n",
       "      <td>3</td>\n",
       "      <td>97</td>\n",
       "      <td>29.247559</td>\n",
       "      <td>3</td>\n",
       "    </tr>\n",
       "    <tr>\n",
       "      <th>181797</th>\n",
       "      <td>10</td>\n",
       "      <td>10</td>\n",
       "      <td>2</td>\n",
       "      <td>3</td>\n",
       "      <td>98</td>\n",
       "      <td>28.796951</td>\n",
       "      <td>3</td>\n",
       "    </tr>\n",
       "    <tr>\n",
       "      <th>181798</th>\n",
       "      <td>10</td>\n",
       "      <td>10</td>\n",
       "      <td>2</td>\n",
       "      <td>3</td>\n",
       "      <td>99</td>\n",
       "      <td>28.432936</td>\n",
       "      <td>3</td>\n",
       "    </tr>\n",
       "    <tr>\n",
       "      <th>181799</th>\n",
       "      <td>10</td>\n",
       "      <td>10</td>\n",
       "      <td>2</td>\n",
       "      <td>3</td>\n",
       "      <td>100</td>\n",
       "      <td>28.136438</td>\n",
       "      <td>3</td>\n",
       "    </tr>\n",
       "  </tbody>\n",
       "</table>\n",
       "<p>181800 rows × 7 columns</p>\n",
       "</div>"
      ],
      "text/plain": [
       "        subject  replication  leg  joint  time      angle  condition\n",
       "0             1            1    1      1     0   4.682881          1\n",
       "1             1            1    1      1     1   5.073127          1\n",
       "2             1            1    1      1     2   5.229774          1\n",
       "3             1            1    1      1     3   5.083273          1\n",
       "4             1            1    1      1     4   4.652399          1\n",
       "...         ...          ...  ...    ...   ...        ...        ...\n",
       "181795       10           10    2      3    96  29.778412          3\n",
       "181796       10           10    2      3    97  29.247559          3\n",
       "181797       10           10    2      3    98  28.796951          3\n",
       "181798       10           10    2      3    99  28.432936          3\n",
       "181799       10           10    2      3   100  28.136438          3\n",
       "\n",
       "[181800 rows x 7 columns]"
      ]
     },
     "execution_count": 7,
     "metadata": {},
     "output_type": "execute_result"
    }
   ],
   "source": [
    "df #reindexed cols"
   ]
  },
  {
   "cell_type": "code",
   "execution_count": 8,
   "id": "a1a3c898",
   "metadata": {},
   "outputs": [
    {
     "data": {
      "text/plain": [
       "subject        0\n",
       "replication    0\n",
       "leg            0\n",
       "joint          0\n",
       "time           0\n",
       "angle          0\n",
       "condition      0\n",
       "dtype: int64"
      ]
     },
     "execution_count": 8,
     "metadata": {},
     "output_type": "execute_result"
    }
   ],
   "source": [
    "df.isna().sum() #no Nan Values"
   ]
  },
  {
   "cell_type": "code",
   "execution_count": 9,
   "id": "9f228750",
   "metadata": {},
   "outputs": [],
   "source": [
    "condition_map = {1: 0, 2 : 1,3 : 2}\n",
    "df['condition'] = df['condition'].map(condition_map)   #mapping target column as 1: 0, 2 : 1,3 : 2 (condition)"
   ]
  },
  {
   "cell_type": "code",
   "execution_count": 10,
   "id": "0bb250ef",
   "metadata": {},
   "outputs": [
    {
     "data": {
      "text/plain": [
       "(181800, 7)"
      ]
     },
     "execution_count": 10,
     "metadata": {},
     "output_type": "execute_result"
    }
   ],
   "source": [
    "df.shape"
   ]
  },
  {
   "cell_type": "code",
   "execution_count": 11,
   "id": "b6de1516",
   "metadata": {},
   "outputs": [],
   "source": [
    "X = df.iloc[:,0:-1]   # subject replication leg joint time angle\n",
    "y = df.iloc[:,-1]     # condition"
   ]
  },
  {
   "cell_type": "code",
   "execution_count": 12,
   "id": "1b62bfae",
   "metadata": {},
   "outputs": [],
   "source": [
    "X_train, X_test, y_train, y_test = train_test_split(X, y, test_size=0.3)"
   ]
  },
  {
   "cell_type": "code",
   "execution_count": 25,
   "id": "d176ee98",
   "metadata": {},
   "outputs": [
    {
     "name": "stdout",
     "output_type": "stream",
     "text": [
      "        subject  replication  leg  joint  time      angle\n",
      "135281        8            4    1      2    42  12.837695\n",
      "36836         3            1    2      2    72  62.860972\n",
      "145502        9            1    1      1    62   7.178063\n",
      "171153       10            3    1      3    59  -6.911891\n",
      "65969         4            9    2      3    16  17.783626\n",
      "...         ...          ...  ...    ...   ...        ...\n",
      "131231        8            7    2      1    32   8.160843\n",
      "103175        6            1    1      2    54  15.966955\n",
      "83928         5            9    1      3    98  27.180625\n",
      "58604         4            7    2      2    24   5.173512\n",
      "27432         2            6    1      2    61  27.118325\n",
      "\n",
      "[127260 rows x 6 columns]\n",
      "(54540, 6)\n"
     ]
    }
   ],
   "source": [
    "x_main = [X_train]\n",
    "print(X_train)\n",
    "print(X_test.shape)"
   ]
  },
  {
   "cell_type": "markdown",
   "id": "8afbd9b9",
   "metadata": {},
   "source": [
    "# RandomForestClassifier"
   ]
  },
  {
   "cell_type": "code",
   "execution_count": 14,
   "id": "5a7fdf54",
   "metadata": {},
   "outputs": [
    {
     "data": {
      "text/plain": [
       "GridSearchCV(cv=2, estimator=RandomForestClassifier(),\n",
       "             param_grid={'max_depth': [30], 'min_samples_split': [10],\n",
       "                         'n_estimators': [120]})"
      ]
     },
     "execution_count": 14,
     "metadata": {},
     "output_type": "execute_result"
    }
   ],
   "source": [
    "pipe = Pipeline([\n",
    "    ('scaler', StandardScaler()),                      #first it will standardize the data then \n",
    "    ('pca', PCA(n_components = 5)),                                    #it will reduce the dimensions\n",
    "    ('classifier', SVC())                              #then it will apply svm taking too much time\n",
    "])\n",
    "param_grid = {\n",
    "    'n_estimators': [120],\n",
    "    'max_depth': [30],\n",
    "    'min_samples_split': [10]\n",
    "}\n",
    "\n",
    "# Create a random forest classifier\n",
    "rf = RandomForestClassifier()\n",
    "\n",
    "# Use grid search cross-validation to find the best hyperparameters\n",
    "grid_search = GridSearchCV(estimator=rf, param_grid=param_grid, cv=2)\n",
    "grid_search.fit(X, y)"
   ]
  },
  {
   "cell_type": "code",
   "execution_count": 16,
   "id": "e6d5848d",
   "metadata": {},
   "outputs": [
    {
     "name": "stdout",
     "output_type": "stream",
     "text": [
      "Accuracy score: 0.9234873487348735\n"
     ]
    }
   ],
   "source": [
    "y_pred = grid_search.predict(X_test)\n",
    "print(\"Accuracy score:\", accuracy_score(y_test, y_pred))"
   ]
  },
  {
   "cell_type": "markdown",
   "id": "81eaf1a5",
   "metadata": {},
   "source": [
    "# Support vector time Taking"
   ]
  },
  {
   "cell_type": "raw",
   "id": "768e4796",
   "metadata": {},
   "source": [
    "pipe = Pipeline([\n",
    "    ('scaler', StandardScaler()),                      #first it will standardize the data then \n",
    "    ('pca', PCA()),                                    #it will reduce the dimensions\n",
    "    ('classifier', SVC())                              #then it will apply svm taking too much time\n",
    "])\n",
    "\n",
    "param_grid = {\n",
    "    'pca__n_components': [5],\n",
    "    'classifier__C': [1],\n",
    "    'classifier__kernel': ['poly'],\n",
    "    'classifier__gamma': ['auto']\n",
    "}\n",
    "\n",
    "grid = GridSearchCV(pipe, param_grid=param_grid, cv=2,n_jobs = -1)\n",
    "grid.fit(X_train, y_train)\n",
    "\n",
    "print(grid.best_params_)\n",
    "print(grid.best_score_)"
   ]
  },
  {
   "cell_type": "raw",
   "id": "97dac417",
   "metadata": {},
   "source": [
    "y_pred = grid.predict(X_test)\n",
    "print(\"Accuracy score:\", accuracy_score(y_test, y_pred))"
   ]
  },
  {
   "cell_type": "markdown",
   "id": "764d7b73",
   "metadata": {},
   "source": [
    "# LOGISTIC REGRESSION"
   ]
  },
  {
   "cell_type": "code",
   "execution_count": 17,
   "id": "eeadedff",
   "metadata": {},
   "outputs": [
    {
     "name": "stdout",
     "output_type": "stream",
     "text": [
      "{'logreg__C': 1, 'logreg__penalty': 'l2', 'pca__n_components': 6}\n",
      "0.3742024202420242\n"
     ]
    }
   ],
   "source": [
    "pipeline = Pipeline([\n",
    "    ('scaler', StandardScaler()),\n",
    "    ('pca', PCA()),\n",
    "    ('logreg', LogisticRegression(multi_class='multinomial', solver='lbfgs'))\n",
    "])\n",
    "\n",
    "param_grid = {\n",
    "    'pca__n_components': [6],\n",
    "    'logreg__C': [1],\n",
    "    'logreg__penalty': ['l2']\n",
    "}\n",
    "\n",
    "grid = GridSearchCV(estimator=pipeline, param_grid=param_grid, cv=5,n_jobs=-1)\n",
    "grid.fit(X_train, y_train)\n",
    "\n",
    "print(grid.best_params_)\n",
    "print(grid.best_score_)"
   ]
  },
  {
   "cell_type": "code",
   "execution_count": 18,
   "id": "7e08a2e2",
   "metadata": {},
   "outputs": [
    {
     "name": "stdout",
     "output_type": "stream",
     "text": [
      "Accuracy score: 0.3746607994132747\n"
     ]
    }
   ],
   "source": [
    "y_pred = grid.predict(X_test)\n",
    "print(\"Accuracy score:\", accuracy_score(y_test, y_pred))"
   ]
  },
  {
   "cell_type": "markdown",
   "id": "b2589d73",
   "metadata": {},
   "source": [
    "# Neural Network"
   ]
  },
  {
   "cell_type": "code",
   "execution_count": 19,
   "id": "f5f3e54c",
   "metadata": {
    "scrolled": false
   },
   "outputs": [
    {
     "name": "stdout",
     "output_type": "stream",
     "text": [
      "Epoch 1/20\n",
      "1591/1591 [==============================] - 6s 4ms/step - loss: 1.0403 - accuracy: 0.4190 - val_loss: 40.2740 - val_accuracy: 0.3472\n",
      "Epoch 2/20\n",
      "1591/1591 [==============================] - 4s 2ms/step - loss: 1.0020 - accuracy: 0.4456 - val_loss: 59.7186 - val_accuracy: 0.3489\n",
      "Epoch 3/20\n",
      "1591/1591 [==============================] - 8s 5ms/step - loss: 0.9798 - accuracy: 0.4659 - val_loss: 66.0369 - val_accuracy: 0.3455\n",
      "Epoch 4/20\n",
      "1591/1591 [==============================] - 7s 4ms/step - loss: 0.9578 - accuracy: 0.4824 - val_loss: 90.1712 - val_accuracy: 0.3211\n",
      "Epoch 5/20\n",
      "1591/1591 [==============================] - 7s 4ms/step - loss: 0.9374 - accuracy: 0.4963 - val_loss: 115.4816 - val_accuracy: 0.3330\n",
      "Epoch 6/20\n",
      "1591/1591 [==============================] - 5s 3ms/step - loss: 0.9229 - accuracy: 0.5065 - val_loss: 130.1331 - val_accuracy: 0.3328\n",
      "Epoch 7/20\n",
      "1591/1591 [==============================] - 6s 4ms/step - loss: 0.9114 - accuracy: 0.5124 - val_loss: 149.8075 - val_accuracy: 0.3324\n",
      "Epoch 8/20\n",
      "1591/1591 [==============================] - 6s 4ms/step - loss: 0.9019 - accuracy: 0.5199 - val_loss: 168.4615 - val_accuracy: 0.3324\n",
      "Epoch 9/20\n",
      "1591/1591 [==============================] - 6s 4ms/step - loss: 0.8943 - accuracy: 0.5233 - val_loss: 190.9911 - val_accuracy: 0.3320\n",
      "Epoch 10/20\n",
      "1591/1591 [==============================] - 7s 4ms/step - loss: 0.8876 - accuracy: 0.5286 - val_loss: 209.3632 - val_accuracy: 0.3320\n",
      "Epoch 11/20\n",
      "1591/1591 [==============================] - 6s 3ms/step - loss: 0.8827 - accuracy: 0.5299 - val_loss: 207.1460 - val_accuracy: 0.3307\n",
      "Epoch 12/20\n",
      "1591/1591 [==============================] - 6s 4ms/step - loss: 0.8768 - accuracy: 0.5332 - val_loss: 203.7045 - val_accuracy: 0.3308\n",
      "Epoch 13/20\n",
      "1591/1591 [==============================] - 6s 4ms/step - loss: 0.8734 - accuracy: 0.5346 - val_loss: 214.8358 - val_accuracy: 0.3306\n",
      "Epoch 14/20\n",
      "1591/1591 [==============================] - 7s 4ms/step - loss: 0.8691 - accuracy: 0.5393 - val_loss: 214.2578 - val_accuracy: 0.3309\n",
      "Epoch 15/20\n",
      "1591/1591 [==============================] - 6s 4ms/step - loss: 0.8654 - accuracy: 0.5425 - val_loss: 213.9091 - val_accuracy: 0.3305\n",
      "Epoch 16/20\n",
      "1591/1591 [==============================] - 6s 4ms/step - loss: 0.8619 - accuracy: 0.5432 - val_loss: 211.1448 - val_accuracy: 0.3309\n",
      "Epoch 17/20\n",
      "1591/1591 [==============================] - 6s 4ms/step - loss: 0.8596 - accuracy: 0.5441 - val_loss: 223.6505 - val_accuracy: 0.3304\n",
      "Epoch 18/20\n",
      "1591/1591 [==============================] - 6s 4ms/step - loss: 0.8560 - accuracy: 0.5470 - val_loss: 216.5266 - val_accuracy: 0.3307\n",
      "Epoch 19/20\n",
      "1591/1591 [==============================] - 6s 4ms/step - loss: 0.8532 - accuracy: 0.5479 - val_loss: 234.8477 - val_accuracy: 0.3307\n",
      "Epoch 20/20\n",
      "1591/1591 [==============================] - 6s 4ms/step - loss: 0.8511 - accuracy: 0.5491 - val_loss: 227.8692 - val_accuracy: 0.3307\n",
      "1705/1705 [==============================] - 3s 2ms/step - loss: 227.8690 - accuracy: 0.3307\n",
      "Accuracy: 0.33065640926361084\n"
     ]
    }
   ],
   "source": [
    "from keras.models import Sequential\n",
    "from keras.layers import Dense\n",
    "\n",
    "# Create pipeline\n",
    "pipeline = Pipeline([\n",
    "    ('scaler', StandardScaler()),\n",
    "    ('pca', PCA(n_components=6)),\n",
    "    ('model', Sequential([\n",
    "        Dense(64, input_dim=6, activation='relu'),\n",
    "        Dense(32, activation='relu'),\n",
    "        Dense(3, activation='softmax')\n",
    "    ]))\n",
    "])\n",
    "\n",
    "# Compile the model\n",
    "pipeline.named_steps['model'].compile(loss='sparse_categorical_crossentropy', optimizer='adam', metrics=['accuracy'])\n",
    "\n",
    "# Train the model\n",
    "pipeline.fit(X_train, y_train, model__epochs=20, model__batch_size=80, model__validation_data=(X_test, y_test))\n",
    "\n",
    "# Evaluate the model\n",
    "loss, accuracy = pipeline.named_steps['model'].evaluate(X_test, y_test)\n",
    "print('Accuracy:', accuracy)\n",
    "\n",
    "\n",
    "# Use the model for prediction\n",
    "#X_new = np.random.rand(5, 10)\n",
    "#y_pred = pipeline.predict(X_new)\n",
    "#print(y_pred)"
   ]
  },
  {
   "cell_type": "markdown",
   "id": "839bd875",
   "metadata": {},
   "source": [
    "# Naive Bayes"
   ]
  },
  {
   "cell_type": "code",
   "execution_count": 20,
   "id": "082d02ea",
   "metadata": {
    "scrolled": true
   },
   "outputs": [
    {
     "name": "stdout",
     "output_type": "stream",
     "text": [
      "{'pca__n_components': 5}\n",
      "0.36904761904761907\n"
     ]
    }
   ],
   "source": [
    "pipe = Pipeline([\n",
    "    ('scaler', StandardScaler()),                      #first it will standardize the data then \n",
    "    ('pca', PCA()),                                    #it will reduce the dimensions\n",
    "    ('classifier', GaussianNB())                       #then it will apply Naive Bayes\n",
    "])\n",
    "\n",
    "param_grid = {\n",
    "    'pca__n_components': [5],\n",
    "}\n",
    "\n",
    "grid = GridSearchCV(pipe, param_grid=param_grid, cv=2, n_jobs=-1)\n",
    "grid.fit(X_train, y_train)\n",
    "\n",
    "print(grid.best_params_)\n",
    "print(grid.best_score_)"
   ]
  },
  {
   "cell_type": "code",
   "execution_count": 21,
   "id": "2870b159",
   "metadata": {},
   "outputs": [
    {
     "name": "stdout",
     "output_type": "stream",
     "text": [
      "Accuracy score: 0.3733039970663733\n"
     ]
    }
   ],
   "source": [
    "y_pred = grid.predict(X_test)\n",
    "print(\"Accuracy score:\", accuracy_score(y_test, y_pred))"
   ]
  },
  {
   "cell_type": "markdown",
   "id": "7cca17df",
   "metadata": {},
   "source": [
    "# Perceptron"
   ]
  },
  {
   "cell_type": "code",
   "execution_count": 22,
   "id": "e5a020ab",
   "metadata": {},
   "outputs": [
    {
     "name": "stdout",
     "output_type": "stream",
     "text": [
      "{'classifier__eta0': 1, 'classifier__max_iter': 1000, 'pca__n_components': 2}\n",
      "0.3401933050447902\n"
     ]
    }
   ],
   "source": [
    "pipe = Pipeline([\n",
    "    ('scaler', StandardScaler()), # Apply standard scaling to the features\n",
    "    ('pca', PCA()), # Reduce the dimensionality using PCA\n",
    "    ('classifier', Perceptron()) # Use Perceptron as the classifier instead of GaussianNB\n",
    "])\n",
    "\n",
    "# Define the parameter grid for GridSearchCV\n",
    "param_grid = {\n",
    "    'pca__n_components': [1,2,3,4,5,6], # Tune the number of components for PCA\n",
    "    'classifier__eta0': [0.01, 0.1, 1], # Tune the learning rate for Perceptron\n",
    "    'classifier__max_iter': [1000, 2000, 3000] # Tune the maximum number of iterations for Perceptron\n",
    "}\n",
    "\n",
    "# Create the GridSearchCV object\n",
    "grid = GridSearchCV(pipe, param_grid=param_grid, cv=5, n_jobs=-1)\n",
    "\n",
    "# Train the pipeline on the train set using GridSearchCV\n",
    "grid.fit(X_train, y_train)\n",
    "\n",
    "# Print the best parameters found by GridSearchCV\n",
    "print(grid.best_params_)\n",
    "print(grid.best_score_)"
   ]
  },
  {
   "cell_type": "code",
   "execution_count": 96,
   "id": "80a04c67",
   "metadata": {},
   "outputs": [
    {
     "name": "stdout",
     "output_type": "stream",
     "text": [
      "Accuracy score: 0.33562522918958565\n"
     ]
    }
   ],
   "source": [
    "y_pred = grid.predict(X_test)\n",
    "print(\"Accuracy score:\", accuracy_score(y_test, y_pred))"
   ]
  },
  {
   "cell_type": "code",
   "execution_count": 26,
   "id": "0f3863e4",
   "metadata": {},
   "outputs": [
    {
     "data": {
      "image/png": "[encoded data removed]",
      "text/plain": [
       "<Figure size 720x432 with 1 Axes>"
      ]
     },
     "metadata": {},
     "output_type": "display_data"
    }
   ],
   "source": [
    "import seaborn as sns\n",
    "import matplotlib.pyplot as plt\n",
    "\n",
    "# Create a list of algorithms and their accuracy\n",
    "algorithms = ['Random Forest', 'Logistic Regression', 'Neural Network', 'Naive Bayes', 'Perceptron']\n",
    "accuracy = [92, 38, 33, 37, 34]\n",
    "\n",
    "# Create a dictionary with the data\n",
    "data = {'Algorithm': algorithms, 'Accuracy': accuracy}\n",
    "\n",
    "# Convert the dictionary to a Pandas DataFrame\n",
    "df = pd.DataFrame(data)\n",
    "\n",
    "# Set the style of the plot\n",
    "sns.set_style('whitegrid')\n",
    "sns.set_palette('Paired')\n",
    "\n",
    "# Set the figure size\n",
    "plt.figure(figsize=(10,6))\n",
    "\n",
    "# Create a bar plot using Seaborn\n",
    "ax = sns.barplot(x='Algorithm', y='Accuracy', data=df)\n",
    "\n",
    "# Add labels to the plot\n",
    "ax.set_title('Accuracy of Five Algorithms', fontsize=18, fontweight='bold')\n",
    "ax.set_xlabel('Algorithm', fontsize=14, fontweight='bold')\n",
    "ax.set_ylabel('Accuracy (%)', fontsize=14, fontweight='bold')\n",
    "ax.tick_params(axis='both', labelsize=12, pad=10)\n",
    "\n",
    "# Rotate the x-axis labels\n",
    "ax.set_xticklabels(ax.get_xticklabels(), rotation=45, ha='right')\n",
    "\n",
    "# Add text annotations to the bars\n",
    "for i in range(len(algorithms)):\n",
    "    ax.text(i, accuracy[i]+1, str(accuracy[i])+'%', ha='center', fontsize=14, fontweight='bold')\n",
    "\n",
    "# Add a horizontal line to the plot\n",
    "ax.axhline(y=max(accuracy), color='red', alpha=0.5, linestyle='--')\n",
    "ax.text(len(algorithms)-1, max(accuracy)+1, 'Max Accuracy: '+str(max(accuracy))+'%', ha='right', va='bottom', fontsize=14, fontweight='bold')\n",
    "\n",
    "# Display the plot\n",
    "plt.tight_layout()\n",
    "plt.show()"
   ]
  },
  {
   "cell_type": "code",
   "execution_count": null,
   "id": "75c86439",
   "metadata": {},
   "outputs": [],
   "source": []
  }
 ],
 "metadata": {
  "kernelspec": {
   "display_name": "Python 3 (ipykernel)",
   "language": "python",
   "name": "python3"
  },
  "language_info": {
   "codemirror_mode": {
    "name": "ipython",
    "version": 3
   },
   "file_extension": ".py",
   "mimetype": "text/x-python",
   "name": "python",
   "nbconvert_exporter": "python",
   "pygments_lexer": "ipython3",
   "version": "3.8.3"
  }
 },
 "nbformat": 4,
 "nbformat_minor": 5
}
